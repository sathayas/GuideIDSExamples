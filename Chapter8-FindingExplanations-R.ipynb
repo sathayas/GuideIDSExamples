{
 "cells": [
  {
   "cell_type": "markdown",
   "metadata": {},
   "source": [
    "<H1 style=\"text-align:center;\">\n",
    "Finding Explanations\n",
    "</H1>\n",
    "<hr style=\"height:5px;\">"
   ]
  },
  {
   "cell_type": "markdown",
   "metadata": {},
   "source": [
    "## Decision tree\n",
    "<hr style=\"height:2px;\">\n",
    "\n",
    "R also allows for much finer control of the decision tree construction. The script\n",
    "below demonstrates how to create a simple tree for the Iris data set using a training\n",
    "set of 100 records. Then the tree is displayed, and a confusion matrix for the test\n",
    "set—the remaining 50 records of the Iris data set—is printed. The libraries `rpart`,\n",
    "which comes along with the standard installation of R, and `rattle`, that needs to\n",
    "be installed, are required:"
   ]
  },
  {
   "cell_type": "code",
   "execution_count": null,
   "metadata": {},
   "outputs": [],
   "source": []
  }
 ],
 "metadata": {
  "kernelspec": {
   "display_name": "R",
   "language": "R",
   "name": "ir"
  },
  "language_info": {
   "codemirror_mode": "r",
   "file_extension": ".r",
   "mimetype": "text/x-r-source",
   "name": "R",
   "pygments_lexer": "r",
   "version": "4.0.1"
  }
 },
 "nbformat": 4,
 "nbformat_minor": 4
}
